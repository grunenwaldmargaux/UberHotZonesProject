{
 "cells": [
  {
   "cell_type": "code",
   "execution_count": 1,
   "metadata": {},
   "outputs": [
    {
     "name": "stdout",
     "output_type": "stream",
     "text": [
      "Requirement already satisfied: plotly in /opt/conda/lib/python3.8/site-packages (5.5.0)\n",
      "Requirement already satisfied: tenacity>=6.2.0 in /opt/conda/lib/python3.8/site-packages (from plotly) (8.0.1)\n",
      "Requirement already satisfied: six in /opt/conda/lib/python3.8/site-packages (from plotly) (1.15.0)\n"
     ]
    }
   ],
   "source": [
    "!pip install plotly"
   ]
  },
  {
   "cell_type": "code",
   "execution_count": 2,
   "metadata": {},
   "outputs": [],
   "source": [
    "import pandas as pd\n",
    "import numpy as np\n",
    "from sklearn.preprocessing import StandardScaler, OneHotEncoder\n",
    "from sklearn.cluster import KMeans, DBSCAN\n",
    "import plotly.express as px\n",
    "import plotly.graph_objects as go\n",
    "import plotly.io as pio\n",
    "pio.renderers.default = \"iframe_connected\"\n",
    "from sklearn.pipeline import Pipeline\n",
    "from sklearn.impute import SimpleImputer\n",
    "from sklearn.compose import ColumnTransformer\n",
    "from sklearn.metrics import silhouette_score"
   ]
  },
  {
   "cell_type": "markdown",
   "metadata": {},
   "source": [
    "# Dataset: Uber rides in April 2014 - where one observation is one Uber ride starting point\n",
    "df = pd.read_csv('uber-raw-data-apr14.csv')"
   ]
  },
  {
   "cell_type": "markdown",
   "metadata": {},
   "source": [
    "# Create a column with latitude and longitude joined\n",
    "df['coords'] = [', '.join(str(x) for x in y) for y in map(tuple, df[['Lat', 'Lon']].values)]"
   ]
  },
  {
   "cell_type": "markdown",
   "metadata": {},
   "source": [
    "# Getting the day, month, hour and minute of every observation from the date/time column\n",
    "df['Date/Time']= pd.to_datetime(df['Date/Time'])\n",
    "\n",
    "df['Day'], df['Weekday'], df['Hour'], df['Minute'] = df['Date/Time'].dt.day, df['Date/Time'].dt.dayofweek, df['Date/Time'].dt.hour, df['Date/Time'].dt.minute"
   ]
  },
  {
   "cell_type": "markdown",
   "metadata": {},
   "source": [
    "# Renaming the weekdays\n",
    "df['Weekday'] = df['Weekday'].apply(lambda x: \n",
    "                                \"Monday\" if x == 0\n",
    "                                else \"Tuesday\" if x == 1\n",
    "                                else \"Wednesday\" if x == 2\n",
    "                                else \"Thursday\" if x == 3\n",
    "                                else \"Friday\" if x == 4\n",
    "                                else \"Saturday\" if x == 5\n",
    "                                else \"Sunday\")"
   ]
  },
  {
   "cell_type": "markdown",
   "metadata": {},
   "source": [
    "# Dropping the Date/Time and Base columns\n",
    "df = df.drop(['Date/Time', 'Base'], axis=1)"
   ]
  },
  {
   "cell_type": "markdown",
   "metadata": {},
   "source": [
    "# Changing the type of the Hour column to integer\n",
    "df['Hour'] = df['Hour'].astype('int')"
   ]
  },
  {
   "cell_type": "markdown",
   "metadata": {},
   "source": [
    "# Hot zones = Getting the 1000 coordinates that have the most occurences = most calls in the month\n",
    "n = 1000\n",
    "list_z = df['coords'].value_counts()[:n].index.tolist()"
   ]
  },
  {
   "cell_type": "markdown",
   "metadata": {},
   "source": [
    "# Creating an empty column \n",
    "df['hot_z'] = ''"
   ]
  },
  {
   "cell_type": "markdown",
   "metadata": {},
   "source": [
    "# Writing 'Yes' at every row if the coordinates are in the top 1000\n",
    "for i in range(len(df)):\n",
    "    for j in range(len(list_z)):\n",
    "        if df['coords'][i] == list_z[j]:\n",
    "            df['hot_z'][i] = 'Yes'"
   ]
  },
  {
   "cell_type": "markdown",
   "metadata": {},
   "source": [
    "# Creating a new df with hot zones only\n",
    "hot_zones = df[df['hot_z'] == 'Yes']"
   ]
  },
  {
   "cell_type": "markdown",
   "metadata": {},
   "source": [
    "# Saving it into a csv\n",
    "hot_zones.to_csv('hot_zones_apr14.csv')"
   ]
  },
  {
   "cell_type": "code",
   "execution_count": 3,
   "metadata": {},
   "outputs": [
    {
     "data": {
      "text/html": [
       "<div>\n",
       "<style scoped>\n",
       "    .dataframe tbody tr th:only-of-type {\n",
       "        vertical-align: middle;\n",
       "    }\n",
       "\n",
       "    .dataframe tbody tr th {\n",
       "        vertical-align: top;\n",
       "    }\n",
       "\n",
       "    .dataframe thead th {\n",
       "        text-align: right;\n",
       "    }\n",
       "</style>\n",
       "<table border=\"1\" class=\"dataframe\">\n",
       "  <thead>\n",
       "    <tr style=\"text-align: right;\">\n",
       "      <th></th>\n",
       "      <th>Unnamed: 0</th>\n",
       "      <th>Lat</th>\n",
       "      <th>Lon</th>\n",
       "      <th>coords</th>\n",
       "      <th>Day</th>\n",
       "      <th>Weekday</th>\n",
       "      <th>Hour</th>\n",
       "      <th>Minute</th>\n",
       "      <th>hot_z</th>\n",
       "    </tr>\n",
       "  </thead>\n",
       "  <tbody>\n",
       "    <tr>\n",
       "      <th>0</th>\n",
       "      <td>18</td>\n",
       "      <td>40.7531</td>\n",
       "      <td>-74.0039</td>\n",
       "      <td>40.7531, -74.0039</td>\n",
       "      <td>1</td>\n",
       "      <td>Tuesday</td>\n",
       "      <td>3</td>\n",
       "      <td>35</td>\n",
       "      <td>Yes</td>\n",
       "    </tr>\n",
       "    <tr>\n",
       "      <th>1</th>\n",
       "      <td>24</td>\n",
       "      <td>40.6950</td>\n",
       "      <td>-74.1783</td>\n",
       "      <td>40.695, -74.1783</td>\n",
       "      <td>1</td>\n",
       "      <td>Tuesday</td>\n",
       "      <td>4</td>\n",
       "      <td>20</td>\n",
       "      <td>Yes</td>\n",
       "    </tr>\n",
       "    <tr>\n",
       "      <th>2</th>\n",
       "      <td>26</td>\n",
       "      <td>40.6879</td>\n",
       "      <td>-74.1814</td>\n",
       "      <td>40.6879, -74.1814</td>\n",
       "      <td>1</td>\n",
       "      <td>Tuesday</td>\n",
       "      <td>4</td>\n",
       "      <td>27</td>\n",
       "      <td>Yes</td>\n",
       "    </tr>\n",
       "    <tr>\n",
       "      <th>3</th>\n",
       "      <td>27</td>\n",
       "      <td>40.6878</td>\n",
       "      <td>-74.1816</td>\n",
       "      <td>40.6878, -74.1816</td>\n",
       "      <td>1</td>\n",
       "      <td>Tuesday</td>\n",
       "      <td>4</td>\n",
       "      <td>38</td>\n",
       "      <td>Yes</td>\n",
       "    </tr>\n",
       "    <tr>\n",
       "      <th>4</th>\n",
       "      <td>39</td>\n",
       "      <td>40.7217</td>\n",
       "      <td>-73.9875</td>\n",
       "      <td>40.7217, -73.9875</td>\n",
       "      <td>1</td>\n",
       "      <td>Tuesday</td>\n",
       "      <td>5</td>\n",
       "      <td>36</td>\n",
       "      <td>Yes</td>\n",
       "    </tr>\n",
       "    <tr>\n",
       "      <th>...</th>\n",
       "      <td>...</td>\n",
       "      <td>...</td>\n",
       "      <td>...</td>\n",
       "      <td>...</td>\n",
       "      <td>...</td>\n",
       "      <td>...</td>\n",
       "      <td>...</td>\n",
       "      <td>...</td>\n",
       "      <td>...</td>\n",
       "    </tr>\n",
       "    <tr>\n",
       "      <th>48386</th>\n",
       "      <td>564462</td>\n",
       "      <td>40.6449</td>\n",
       "      <td>-73.7821</td>\n",
       "      <td>40.6449, -73.7821</td>\n",
       "      <td>30</td>\n",
       "      <td>Wednesday</td>\n",
       "      <td>21</td>\n",
       "      <td>30</td>\n",
       "      <td>Yes</td>\n",
       "    </tr>\n",
       "    <tr>\n",
       "      <th>48387</th>\n",
       "      <td>564484</td>\n",
       "      <td>40.7209</td>\n",
       "      <td>-74.0042</td>\n",
       "      <td>40.7209, -74.0042</td>\n",
       "      <td>30</td>\n",
       "      <td>Wednesday</td>\n",
       "      <td>22</td>\n",
       "      <td>14</td>\n",
       "      <td>Yes</td>\n",
       "    </tr>\n",
       "    <tr>\n",
       "      <th>48388</th>\n",
       "      <td>564497</td>\n",
       "      <td>40.7325</td>\n",
       "      <td>-73.9969</td>\n",
       "      <td>40.7325, -73.9969</td>\n",
       "      <td>30</td>\n",
       "      <td>Wednesday</td>\n",
       "      <td>22</td>\n",
       "      <td>42</td>\n",
       "      <td>Yes</td>\n",
       "    </tr>\n",
       "    <tr>\n",
       "      <th>48389</th>\n",
       "      <td>564509</td>\n",
       "      <td>40.7420</td>\n",
       "      <td>-74.0037</td>\n",
       "      <td>40.742, -74.0037</td>\n",
       "      <td>30</td>\n",
       "      <td>Wednesday</td>\n",
       "      <td>23</td>\n",
       "      <td>15</td>\n",
       "      <td>Yes</td>\n",
       "    </tr>\n",
       "    <tr>\n",
       "      <th>48390</th>\n",
       "      <td>564510</td>\n",
       "      <td>40.7514</td>\n",
       "      <td>-74.0066</td>\n",
       "      <td>40.7514, -74.0066</td>\n",
       "      <td>30</td>\n",
       "      <td>Wednesday</td>\n",
       "      <td>23</td>\n",
       "      <td>18</td>\n",
       "      <td>Yes</td>\n",
       "    </tr>\n",
       "  </tbody>\n",
       "</table>\n",
       "<p>48391 rows × 9 columns</p>\n",
       "</div>"
      ],
      "text/plain": [
       "       Unnamed: 0      Lat      Lon             coords  Day    Weekday  Hour  \\\n",
       "0              18  40.7531 -74.0039  40.7531, -74.0039    1    Tuesday     3   \n",
       "1              24  40.6950 -74.1783   40.695, -74.1783    1    Tuesday     4   \n",
       "2              26  40.6879 -74.1814  40.6879, -74.1814    1    Tuesday     4   \n",
       "3              27  40.6878 -74.1816  40.6878, -74.1816    1    Tuesday     4   \n",
       "4              39  40.7217 -73.9875  40.7217, -73.9875    1    Tuesday     5   \n",
       "...           ...      ...      ...                ...  ...        ...   ...   \n",
       "48386      564462  40.6449 -73.7821  40.6449, -73.7821   30  Wednesday    21   \n",
       "48387      564484  40.7209 -74.0042  40.7209, -74.0042   30  Wednesday    22   \n",
       "48388      564497  40.7325 -73.9969  40.7325, -73.9969   30  Wednesday    22   \n",
       "48389      564509  40.7420 -74.0037   40.742, -74.0037   30  Wednesday    23   \n",
       "48390      564510  40.7514 -74.0066  40.7514, -74.0066   30  Wednesday    23   \n",
       "\n",
       "       Minute hot_z  \n",
       "0          35   Yes  \n",
       "1          20   Yes  \n",
       "2          27   Yes  \n",
       "3          38   Yes  \n",
       "4          36   Yes  \n",
       "...       ...   ...  \n",
       "48386      30   Yes  \n",
       "48387      14   Yes  \n",
       "48388      42   Yes  \n",
       "48389      15   Yes  \n",
       "48390      18   Yes  \n",
       "\n",
       "[48391 rows x 9 columns]"
      ]
     },
     "execution_count": 3,
     "metadata": {},
     "output_type": "execute_result"
    }
   ],
   "source": [
    "hot_zones = pd.read_csv('hot_zones_apr14.csv')\n",
    "hot_zones"
   ]
  },
  {
   "cell_type": "code",
   "execution_count": 4,
   "metadata": {},
   "outputs": [],
   "source": [
    "# Dropping unnecessary columns\n",
    "hot_zones = hot_zones.drop(columns=['Unnamed: 0'], axis=1)"
   ]
  },
  {
   "cell_type": "code",
   "execution_count": 5,
   "metadata": {},
   "outputs": [
    {
     "data": {
      "text/html": [
       "<div>\n",
       "<style scoped>\n",
       "    .dataframe tbody tr th:only-of-type {\n",
       "        vertical-align: middle;\n",
       "    }\n",
       "\n",
       "    .dataframe tbody tr th {\n",
       "        vertical-align: top;\n",
       "    }\n",
       "\n",
       "    .dataframe thead th {\n",
       "        text-align: right;\n",
       "    }\n",
       "</style>\n",
       "<table border=\"1\" class=\"dataframe\">\n",
       "  <thead>\n",
       "    <tr style=\"text-align: right;\">\n",
       "      <th></th>\n",
       "      <th>Lat</th>\n",
       "      <th>Lon</th>\n",
       "      <th>coords</th>\n",
       "      <th>Day</th>\n",
       "      <th>Weekday</th>\n",
       "      <th>Hour</th>\n",
       "      <th>Minute</th>\n",
       "      <th>hot_z</th>\n",
       "    </tr>\n",
       "  </thead>\n",
       "  <tbody>\n",
       "    <tr>\n",
       "      <th>0</th>\n",
       "      <td>40.7531</td>\n",
       "      <td>-74.0039</td>\n",
       "      <td>40.7531, -74.0039</td>\n",
       "      <td>1</td>\n",
       "      <td>Tuesday</td>\n",
       "      <td>3</td>\n",
       "      <td>35</td>\n",
       "      <td>Yes</td>\n",
       "    </tr>\n",
       "    <tr>\n",
       "      <th>1</th>\n",
       "      <td>40.6950</td>\n",
       "      <td>-74.1783</td>\n",
       "      <td>40.695, -74.1783</td>\n",
       "      <td>1</td>\n",
       "      <td>Tuesday</td>\n",
       "      <td>4</td>\n",
       "      <td>20</td>\n",
       "      <td>Yes</td>\n",
       "    </tr>\n",
       "    <tr>\n",
       "      <th>2</th>\n",
       "      <td>40.6879</td>\n",
       "      <td>-74.1814</td>\n",
       "      <td>40.6879, -74.1814</td>\n",
       "      <td>1</td>\n",
       "      <td>Tuesday</td>\n",
       "      <td>4</td>\n",
       "      <td>27</td>\n",
       "      <td>Yes</td>\n",
       "    </tr>\n",
       "    <tr>\n",
       "      <th>3</th>\n",
       "      <td>40.6878</td>\n",
       "      <td>-74.1816</td>\n",
       "      <td>40.6878, -74.1816</td>\n",
       "      <td>1</td>\n",
       "      <td>Tuesday</td>\n",
       "      <td>4</td>\n",
       "      <td>38</td>\n",
       "      <td>Yes</td>\n",
       "    </tr>\n",
       "    <tr>\n",
       "      <th>4</th>\n",
       "      <td>40.7217</td>\n",
       "      <td>-73.9875</td>\n",
       "      <td>40.7217, -73.9875</td>\n",
       "      <td>1</td>\n",
       "      <td>Tuesday</td>\n",
       "      <td>5</td>\n",
       "      <td>36</td>\n",
       "      <td>Yes</td>\n",
       "    </tr>\n",
       "    <tr>\n",
       "      <th>...</th>\n",
       "      <td>...</td>\n",
       "      <td>...</td>\n",
       "      <td>...</td>\n",
       "      <td>...</td>\n",
       "      <td>...</td>\n",
       "      <td>...</td>\n",
       "      <td>...</td>\n",
       "      <td>...</td>\n",
       "    </tr>\n",
       "    <tr>\n",
       "      <th>48386</th>\n",
       "      <td>40.6449</td>\n",
       "      <td>-73.7821</td>\n",
       "      <td>40.6449, -73.7821</td>\n",
       "      <td>30</td>\n",
       "      <td>Wednesday</td>\n",
       "      <td>21</td>\n",
       "      <td>30</td>\n",
       "      <td>Yes</td>\n",
       "    </tr>\n",
       "    <tr>\n",
       "      <th>48387</th>\n",
       "      <td>40.7209</td>\n",
       "      <td>-74.0042</td>\n",
       "      <td>40.7209, -74.0042</td>\n",
       "      <td>30</td>\n",
       "      <td>Wednesday</td>\n",
       "      <td>22</td>\n",
       "      <td>14</td>\n",
       "      <td>Yes</td>\n",
       "    </tr>\n",
       "    <tr>\n",
       "      <th>48388</th>\n",
       "      <td>40.7325</td>\n",
       "      <td>-73.9969</td>\n",
       "      <td>40.7325, -73.9969</td>\n",
       "      <td>30</td>\n",
       "      <td>Wednesday</td>\n",
       "      <td>22</td>\n",
       "      <td>42</td>\n",
       "      <td>Yes</td>\n",
       "    </tr>\n",
       "    <tr>\n",
       "      <th>48389</th>\n",
       "      <td>40.7420</td>\n",
       "      <td>-74.0037</td>\n",
       "      <td>40.742, -74.0037</td>\n",
       "      <td>30</td>\n",
       "      <td>Wednesday</td>\n",
       "      <td>23</td>\n",
       "      <td>15</td>\n",
       "      <td>Yes</td>\n",
       "    </tr>\n",
       "    <tr>\n",
       "      <th>48390</th>\n",
       "      <td>40.7514</td>\n",
       "      <td>-74.0066</td>\n",
       "      <td>40.7514, -74.0066</td>\n",
       "      <td>30</td>\n",
       "      <td>Wednesday</td>\n",
       "      <td>23</td>\n",
       "      <td>18</td>\n",
       "      <td>Yes</td>\n",
       "    </tr>\n",
       "  </tbody>\n",
       "</table>\n",
       "<p>48391 rows × 8 columns</p>\n",
       "</div>"
      ],
      "text/plain": [
       "           Lat      Lon             coords  Day    Weekday  Hour  Minute hot_z\n",
       "0      40.7531 -74.0039  40.7531, -74.0039    1    Tuesday     3      35   Yes\n",
       "1      40.6950 -74.1783   40.695, -74.1783    1    Tuesday     4      20   Yes\n",
       "2      40.6879 -74.1814  40.6879, -74.1814    1    Tuesday     4      27   Yes\n",
       "3      40.6878 -74.1816  40.6878, -74.1816    1    Tuesday     4      38   Yes\n",
       "4      40.7217 -73.9875  40.7217, -73.9875    1    Tuesday     5      36   Yes\n",
       "...        ...      ...                ...  ...        ...   ...     ...   ...\n",
       "48386  40.6449 -73.7821  40.6449, -73.7821   30  Wednesday    21      30   Yes\n",
       "48387  40.7209 -74.0042  40.7209, -74.0042   30  Wednesday    22      14   Yes\n",
       "48388  40.7325 -73.9969  40.7325, -73.9969   30  Wednesday    22      42   Yes\n",
       "48389  40.7420 -74.0037   40.742, -74.0037   30  Wednesday    23      15   Yes\n",
       "48390  40.7514 -74.0066  40.7514, -74.0066   30  Wednesday    23      18   Yes\n",
       "\n",
       "[48391 rows x 8 columns]"
      ]
     },
     "execution_count": 5,
     "metadata": {},
     "output_type": "execute_result"
    }
   ],
   "source": [
    "hot_zones"
   ]
  },
  {
   "cell_type": "code",
   "execution_count": 6,
   "metadata": {},
   "outputs": [],
   "source": [
    "# Data preprocessing "
   ]
  },
  {
   "cell_type": "code",
   "execution_count": 7,
   "metadata": {},
   "outputs": [],
   "source": [
    "# We want our model to identify clusters on coordinates. To do so, we isolate our Latitudes and Longitudes in an object X.\n",
    "X = hot_zones.loc[:,['Lat', 'Lon']]"
   ]
  },
  {
   "cell_type": "code",
   "execution_count": 8,
   "metadata": {},
   "outputs": [],
   "source": [
    "# Numeric features we need to standardize \n",
    "numeric_features = [0,1]\n",
    "numeric_transformer = Pipeline(steps=[\n",
    "    ('scaler', StandardScaler()) \n",
    "])\n",
    "\n",
    "\n",
    "preprocessor = ColumnTransformer(\n",
    "   transformers=[\n",
    "        ('num', numeric_transformer, numeric_features)\n",
    "       \n",
    "    ])\n",
    "\n",
    "# Applying the preprocessing on the dataset\n",
    "X = preprocessor.fit_transform(X) "
   ]
  },
  {
   "cell_type": "code",
   "execution_count": 9,
   "metadata": {},
   "outputs": [
    {
     "name": "stdout",
     "output_type": "stream",
     "text": [
      "[31683.220555346994, 13889.079364576308, 7326.209249366298, 2777.715958576979, 1466.9127018636975, 1158.7714493273827, 898.0870435355812, 786.3739312655513]\n"
     ]
    }
   ],
   "source": [
    "# We choose to use the elbow method to find the optimal number of clusters\n",
    "wcss =  []\n",
    "for i in range(2,10): \n",
    "    kmeans = KMeans(n_clusters= i)\n",
    "    kmeans.fit(X)\n",
    "    wcss.append(kmeans.inertia_)\n",
    "    \n",
    "print(wcss)"
   ]
  },
  {
   "cell_type": "code",
   "execution_count": 10,
   "metadata": {},
   "outputs": [
    {
     "data": {
      "text/html": [
       "<iframe\n",
       "    scrolling=\"no\"\n",
       "    width=\"100%\"\n",
       "    height=\"545px\"\n",
       "    src=\"iframe_figures/figure_10.html\"\n",
       "    frameborder=\"0\"\n",
       "    allowfullscreen\n",
       "></iframe>\n"
      ]
     },
     "metadata": {},
     "output_type": "display_data"
    }
   ],
   "source": [
    "# Plotting the results \n",
    "fig = px.line(x = range(2,10), y = wcss)\n",
    "fig.show()"
   ]
  },
  {
   "cell_type": "code",
   "execution_count": 11,
   "metadata": {},
   "outputs": [
    {
     "data": {
      "text/plain": [
       "KMeans(n_clusters=4, random_state=0)"
      ]
     },
     "execution_count": 11,
     "metadata": {},
     "output_type": "execute_result"
    }
   ],
   "source": [
    "# By looking at the result of the elbow method, the optimal number of clusters seems to be around 4.\n",
    "kmeans = KMeans(n_clusters= 4, random_state=0, init=\"k-means++\")\n",
    "\n",
    "# Time to fit the model on our normalized data\n",
    "kmeans.fit(X)"
   ]
  },
  {
   "cell_type": "code",
   "execution_count": 12,
   "metadata": {},
   "outputs": [
    {
     "data": {
      "text/html": [
       "<div>\n",
       "<style scoped>\n",
       "    .dataframe tbody tr th:only-of-type {\n",
       "        vertical-align: middle;\n",
       "    }\n",
       "\n",
       "    .dataframe tbody tr th {\n",
       "        vertical-align: top;\n",
       "    }\n",
       "\n",
       "    .dataframe thead th {\n",
       "        text-align: right;\n",
       "    }\n",
       "</style>\n",
       "<table border=\"1\" class=\"dataframe\">\n",
       "  <thead>\n",
       "    <tr style=\"text-align: right;\">\n",
       "      <th></th>\n",
       "      <th>Lat</th>\n",
       "      <th>Lon</th>\n",
       "      <th>coords</th>\n",
       "      <th>Day</th>\n",
       "      <th>Weekday</th>\n",
       "      <th>Hour</th>\n",
       "      <th>Minute</th>\n",
       "      <th>hot_z</th>\n",
       "      <th>cluster</th>\n",
       "    </tr>\n",
       "  </thead>\n",
       "  <tbody>\n",
       "    <tr>\n",
       "      <th>0</th>\n",
       "      <td>40.7531</td>\n",
       "      <td>-74.0039</td>\n",
       "      <td>40.7531, -74.0039</td>\n",
       "      <td>1</td>\n",
       "      <td>Tuesday</td>\n",
       "      <td>3</td>\n",
       "      <td>35</td>\n",
       "      <td>Yes</td>\n",
       "      <td>2</td>\n",
       "    </tr>\n",
       "    <tr>\n",
       "      <th>1</th>\n",
       "      <td>40.6950</td>\n",
       "      <td>-74.1783</td>\n",
       "      <td>40.695, -74.1783</td>\n",
       "      <td>1</td>\n",
       "      <td>Tuesday</td>\n",
       "      <td>4</td>\n",
       "      <td>20</td>\n",
       "      <td>Yes</td>\n",
       "      <td>3</td>\n",
       "    </tr>\n",
       "    <tr>\n",
       "      <th>2</th>\n",
       "      <td>40.6879</td>\n",
       "      <td>-74.1814</td>\n",
       "      <td>40.6879, -74.1814</td>\n",
       "      <td>1</td>\n",
       "      <td>Tuesday</td>\n",
       "      <td>4</td>\n",
       "      <td>27</td>\n",
       "      <td>Yes</td>\n",
       "      <td>3</td>\n",
       "    </tr>\n",
       "    <tr>\n",
       "      <th>3</th>\n",
       "      <td>40.6878</td>\n",
       "      <td>-74.1816</td>\n",
       "      <td>40.6878, -74.1816</td>\n",
       "      <td>1</td>\n",
       "      <td>Tuesday</td>\n",
       "      <td>4</td>\n",
       "      <td>38</td>\n",
       "      <td>Yes</td>\n",
       "      <td>3</td>\n",
       "    </tr>\n",
       "    <tr>\n",
       "      <th>4</th>\n",
       "      <td>40.7217</td>\n",
       "      <td>-73.9875</td>\n",
       "      <td>40.7217, -73.9875</td>\n",
       "      <td>1</td>\n",
       "      <td>Tuesday</td>\n",
       "      <td>5</td>\n",
       "      <td>36</td>\n",
       "      <td>Yes</td>\n",
       "      <td>2</td>\n",
       "    </tr>\n",
       "  </tbody>\n",
       "</table>\n",
       "</div>"
      ],
      "text/plain": [
       "       Lat      Lon             coords  Day  Weekday  Hour  Minute hot_z  \\\n",
       "0  40.7531 -74.0039  40.7531, -74.0039    1  Tuesday     3      35   Yes   \n",
       "1  40.6950 -74.1783   40.695, -74.1783    1  Tuesday     4      20   Yes   \n",
       "2  40.6879 -74.1814  40.6879, -74.1814    1  Tuesday     4      27   Yes   \n",
       "3  40.6878 -74.1816  40.6878, -74.1816    1  Tuesday     4      38   Yes   \n",
       "4  40.7217 -73.9875  40.7217, -73.9875    1  Tuesday     5      36   Yes   \n",
       "\n",
       "   cluster  \n",
       "0        2  \n",
       "1        3  \n",
       "2        3  \n",
       "3        3  \n",
       "4        2  "
      ]
     },
     "execution_count": 12,
     "metadata": {},
     "output_type": "execute_result"
    }
   ],
   "source": [
    "# Then we add our newly created clusters to our original dataframe:\n",
    "label = kmeans.predict(X)\n",
    "hot_zones['cluster'] = label\n",
    "hot_zones.head()"
   ]
  },
  {
   "cell_type": "code",
   "execution_count": 13,
   "metadata": {},
   "outputs": [
    {
     "data": {
      "text/plain": [
       "2    33702\n",
       "0     7156\n",
       "1     6424\n",
       "3     1109\n",
       "Name: cluster, dtype: int64"
      ]
     },
     "execution_count": 13,
     "metadata": {},
     "output_type": "execute_result"
    }
   ],
   "source": [
    "# How many observations do we have per cluster?\n",
    "hot_zones['cluster'].value_counts()"
   ]
  },
  {
   "cell_type": "code",
   "execution_count": 14,
   "metadata": {},
   "outputs": [
    {
     "data": {
      "text/html": [
       "<iframe\n",
       "    scrolling=\"no\"\n",
       "    width=\"100%\"\n",
       "    height=\"545px\"\n",
       "    src=\"iframe_figures/figure_14.html\"\n",
       "    frameborder=\"0\"\n",
       "    allowfullscreen\n",
       "></iframe>\n"
      ]
     },
     "metadata": {},
     "output_type": "display_data"
    }
   ],
   "source": [
    "# Visualization of our clusters by weekday.\n",
    "fig = px.scatter_mapbox(hot_zones, lat=\"Lat\", lon=\"Lon\",  color='cluster', size='Hour' , zoom = 9,\n",
    "                        mapbox_style=\"open-street-map\", color_continuous_scale = 'Plasma',\n",
    "                       animation_frame = 'Weekday', title='Hot Zones by Weekday and Hour')\n",
    "                    \n",
    "fig.show()"
   ]
  },
  {
   "cell_type": "code",
   "execution_count": 15,
   "metadata": {},
   "outputs": [],
   "source": [
    "# We can see that there is not a significant difference in the number of calls day by day."
   ]
  },
  {
   "cell_type": "code",
   "execution_count": 16,
   "metadata": {},
   "outputs": [
    {
     "data": {
      "text/html": [
       "<iframe\n",
       "    scrolling=\"no\"\n",
       "    width=\"100%\"\n",
       "    height=\"545px\"\n",
       "    src=\"iframe_figures/figure_16.html\"\n",
       "    frameborder=\"0\"\n",
       "    allowfullscreen\n",
       "></iframe>\n"
      ]
     },
     "metadata": {},
     "output_type": "display_data"
    }
   ],
   "source": [
    "# Now we look at the density (= number of uber calls) for every hour\n",
    "fig = px.density_mapbox(hot_zones, lat=\"Lat\", lon=\"Lon\", mapbox_style=\"open-street-map\", \n",
    "                        animation_frame = 'Hour',\n",
    "                        zoom = 10, radius = 8, hover_name= 'cluster')\n",
    "fig.show()"
   ]
  },
  {
   "cell_type": "code",
   "execution_count": 17,
   "metadata": {},
   "outputs": [],
   "source": [
    "# There is more to discover when we look at the calls on a day, hour by hour! "
   ]
  },
  {
   "cell_type": "code",
   "execution_count": 18,
   "metadata": {},
   "outputs": [],
   "source": [
    "# Finding the number of calls per hour and per cluster\n",
    "test2 = hot_zones.groupby(['Hour','cluster']).cluster.agg('count').to_frame('count').reset_index()"
   ]
  },
  {
   "cell_type": "code",
   "execution_count": 19,
   "metadata": {},
   "outputs": [
    {
     "data": {
      "text/html": [
       "<div>\n",
       "<style scoped>\n",
       "    .dataframe tbody tr th:only-of-type {\n",
       "        vertical-align: middle;\n",
       "    }\n",
       "\n",
       "    .dataframe tbody tr th {\n",
       "        vertical-align: top;\n",
       "    }\n",
       "\n",
       "    .dataframe thead th {\n",
       "        text-align: right;\n",
       "    }\n",
       "</style>\n",
       "<table border=\"1\" class=\"dataframe\">\n",
       "  <thead>\n",
       "    <tr style=\"text-align: right;\">\n",
       "      <th></th>\n",
       "      <th>Hour</th>\n",
       "      <th>cluster</th>\n",
       "      <th>count</th>\n",
       "    </tr>\n",
       "  </thead>\n",
       "  <tbody>\n",
       "    <tr>\n",
       "      <th>0</th>\n",
       "      <td>0</td>\n",
       "      <td>0</td>\n",
       "      <td>17</td>\n",
       "    </tr>\n",
       "    <tr>\n",
       "      <th>1</th>\n",
       "      <td>0</td>\n",
       "      <td>1</td>\n",
       "      <td>133</td>\n",
       "    </tr>\n",
       "    <tr>\n",
       "      <th>2</th>\n",
       "      <td>0</td>\n",
       "      <td>2</td>\n",
       "      <td>872</td>\n",
       "    </tr>\n",
       "    <tr>\n",
       "      <th>3</th>\n",
       "      <td>0</td>\n",
       "      <td>3</td>\n",
       "      <td>30</td>\n",
       "    </tr>\n",
       "    <tr>\n",
       "      <th>4</th>\n",
       "      <td>1</td>\n",
       "      <td>0</td>\n",
       "      <td>3</td>\n",
       "    </tr>\n",
       "    <tr>\n",
       "      <th>...</th>\n",
       "      <td>...</td>\n",
       "      <td>...</td>\n",
       "      <td>...</td>\n",
       "    </tr>\n",
       "    <tr>\n",
       "      <th>88</th>\n",
       "      <td>22</td>\n",
       "      <td>3</td>\n",
       "      <td>61</td>\n",
       "    </tr>\n",
       "    <tr>\n",
       "      <th>89</th>\n",
       "      <td>23</td>\n",
       "      <td>0</td>\n",
       "      <td>148</td>\n",
       "    </tr>\n",
       "    <tr>\n",
       "      <th>90</th>\n",
       "      <td>23</td>\n",
       "      <td>1</td>\n",
       "      <td>352</td>\n",
       "    </tr>\n",
       "    <tr>\n",
       "      <th>91</th>\n",
       "      <td>23</td>\n",
       "      <td>2</td>\n",
       "      <td>1462</td>\n",
       "    </tr>\n",
       "    <tr>\n",
       "      <th>92</th>\n",
       "      <td>23</td>\n",
       "      <td>3</td>\n",
       "      <td>64</td>\n",
       "    </tr>\n",
       "  </tbody>\n",
       "</table>\n",
       "<p>93 rows × 3 columns</p>\n",
       "</div>"
      ],
      "text/plain": [
       "    Hour  cluster  count\n",
       "0      0        0     17\n",
       "1      0        1    133\n",
       "2      0        2    872\n",
       "3      0        3     30\n",
       "4      1        0      3\n",
       "..   ...      ...    ...\n",
       "88    22        3     61\n",
       "89    23        0    148\n",
       "90    23        1    352\n",
       "91    23        2   1462\n",
       "92    23        3     64\n",
       "\n",
       "[93 rows x 3 columns]"
      ]
     },
     "execution_count": 19,
     "metadata": {},
     "output_type": "execute_result"
    }
   ],
   "source": [
    "test2"
   ]
  },
  {
   "cell_type": "code",
   "execution_count": 20,
   "metadata": {},
   "outputs": [
    {
     "data": {
      "text/html": [
       "<iframe\n",
       "    scrolling=\"no\"\n",
       "    width=\"100%\"\n",
       "    height=\"545px\"\n",
       "    src=\"iframe_figures/figure_20.html\"\n",
       "    frameborder=\"0\"\n",
       "    allowfullscreen\n",
       "></iframe>\n"
      ]
     },
     "metadata": {},
     "output_type": "display_data"
    }
   ],
   "source": [
    "import plotly.express as px\n",
    "\n",
    "fig = px.bar(test2, x='Hour', y='count', color='cluster', title = 'Rides per hour by cluster on average in a day')\n",
    "fig.show()"
   ]
  },
  {
   "cell_type": "code",
   "execution_count": 21,
   "metadata": {},
   "outputs": [],
   "source": [
    "# Now we can clearly see that the drivers should definitely be more present in the cluster nb 2, especially between 2pm and 11pm!"
   ]
  },
  {
   "cell_type": "code",
   "execution_count": 22,
   "metadata": {},
   "outputs": [],
   "source": [
    "# Kmeans seems to have performed quite well. What if we tried a different clustering model, like DBscan?"
   ]
  },
  {
   "cell_type": "code",
   "execution_count": 23,
   "metadata": {},
   "outputs": [],
   "source": [
    "# Instanciate DBSCAN - several tries before finding these parameters!\n",
    "db = DBSCAN(eps=0.3, min_samples=50, metric=\"manhattan\", algorithm=\"auto\")"
   ]
  },
  {
   "cell_type": "code",
   "execution_count": 24,
   "metadata": {},
   "outputs": [
    {
     "data": {
      "text/plain": [
       "DBSCAN(eps=0.3, metric='manhattan', min_samples=50)"
      ]
     },
     "execution_count": 24,
     "metadata": {},
     "output_type": "execute_result"
    }
   ],
   "source": [
    "# Fit on data\n",
    "db.fit(X)"
   ]
  },
  {
   "cell_type": "code",
   "execution_count": 25,
   "metadata": {},
   "outputs": [
    {
     "data": {
      "text/html": [
       "<iframe\n",
       "    scrolling=\"no\"\n",
       "    width=\"100%\"\n",
       "    height=\"545px\"\n",
       "    src=\"iframe_figures/figure_25.html\"\n",
       "    frameborder=\"0\"\n",
       "    allowfullscreen\n",
       "></iframe>\n"
      ]
     },
     "metadata": {},
     "output_type": "display_data"
    }
   ],
   "source": [
    "# Visualization of our clusters with DBScan \n",
    "import plotly.graph_objects as go\n",
    "\n",
    "fig = go.Figure()\n",
    "\n",
    "for i in np.unique(db.labels_):\n",
    "    label = X[db.labels_ == i]\n",
    "    fig.add_trace(go.Scatter(x=label[:, 0], y=label[:, 1], mode=\"markers\", name=\"Cluster {}\".format(i)))\n",
    "\n",
    "fig.show()"
   ]
  },
  {
   "cell_type": "code",
   "execution_count": 26,
   "metadata": {},
   "outputs": [
    {
     "data": {
      "text/html": [
       "<div>\n",
       "<style scoped>\n",
       "    .dataframe tbody tr th:only-of-type {\n",
       "        vertical-align: middle;\n",
       "    }\n",
       "\n",
       "    .dataframe tbody tr th {\n",
       "        vertical-align: top;\n",
       "    }\n",
       "\n",
       "    .dataframe thead th {\n",
       "        text-align: right;\n",
       "    }\n",
       "</style>\n",
       "<table border=\"1\" class=\"dataframe\">\n",
       "  <thead>\n",
       "    <tr style=\"text-align: right;\">\n",
       "      <th></th>\n",
       "      <th>Lat</th>\n",
       "      <th>Lon</th>\n",
       "      <th>coords</th>\n",
       "      <th>Day</th>\n",
       "      <th>Weekday</th>\n",
       "      <th>Hour</th>\n",
       "      <th>Minute</th>\n",
       "      <th>hot_z</th>\n",
       "      <th>cluster</th>\n",
       "      <th>cluster2</th>\n",
       "    </tr>\n",
       "  </thead>\n",
       "  <tbody>\n",
       "    <tr>\n",
       "      <th>0</th>\n",
       "      <td>40.7531</td>\n",
       "      <td>-74.0039</td>\n",
       "      <td>40.7531, -74.0039</td>\n",
       "      <td>1</td>\n",
       "      <td>Tuesday</td>\n",
       "      <td>3</td>\n",
       "      <td>35</td>\n",
       "      <td>Yes</td>\n",
       "      <td>2</td>\n",
       "      <td>0</td>\n",
       "    </tr>\n",
       "    <tr>\n",
       "      <th>1</th>\n",
       "      <td>40.6950</td>\n",
       "      <td>-74.1783</td>\n",
       "      <td>40.695, -74.1783</td>\n",
       "      <td>1</td>\n",
       "      <td>Tuesday</td>\n",
       "      <td>4</td>\n",
       "      <td>20</td>\n",
       "      <td>Yes</td>\n",
       "      <td>3</td>\n",
       "      <td>1</td>\n",
       "    </tr>\n",
       "    <tr>\n",
       "      <th>2</th>\n",
       "      <td>40.6879</td>\n",
       "      <td>-74.1814</td>\n",
       "      <td>40.6879, -74.1814</td>\n",
       "      <td>1</td>\n",
       "      <td>Tuesday</td>\n",
       "      <td>4</td>\n",
       "      <td>27</td>\n",
       "      <td>Yes</td>\n",
       "      <td>3</td>\n",
       "      <td>1</td>\n",
       "    </tr>\n",
       "    <tr>\n",
       "      <th>3</th>\n",
       "      <td>40.6878</td>\n",
       "      <td>-74.1816</td>\n",
       "      <td>40.6878, -74.1816</td>\n",
       "      <td>1</td>\n",
       "      <td>Tuesday</td>\n",
       "      <td>4</td>\n",
       "      <td>38</td>\n",
       "      <td>Yes</td>\n",
       "      <td>3</td>\n",
       "      <td>1</td>\n",
       "    </tr>\n",
       "    <tr>\n",
       "      <th>4</th>\n",
       "      <td>40.7217</td>\n",
       "      <td>-73.9875</td>\n",
       "      <td>40.7217, -73.9875</td>\n",
       "      <td>1</td>\n",
       "      <td>Tuesday</td>\n",
       "      <td>5</td>\n",
       "      <td>36</td>\n",
       "      <td>Yes</td>\n",
       "      <td>2</td>\n",
       "      <td>0</td>\n",
       "    </tr>\n",
       "  </tbody>\n",
       "</table>\n",
       "</div>"
      ],
      "text/plain": [
       "       Lat      Lon             coords  Day  Weekday  Hour  Minute hot_z  \\\n",
       "0  40.7531 -74.0039  40.7531, -74.0039    1  Tuesday     3      35   Yes   \n",
       "1  40.6950 -74.1783   40.695, -74.1783    1  Tuesday     4      20   Yes   \n",
       "2  40.6879 -74.1814  40.6879, -74.1814    1  Tuesday     4      27   Yes   \n",
       "3  40.6878 -74.1816  40.6878, -74.1816    1  Tuesday     4      38   Yes   \n",
       "4  40.7217 -73.9875  40.7217, -73.9875    1  Tuesday     5      36   Yes   \n",
       "\n",
       "   cluster  cluster2  \n",
       "0        2         0  \n",
       "1        3         1  \n",
       "2        3         1  \n",
       "3        3         1  \n",
       "4        2         0  "
      ]
     },
     "execution_count": 26,
     "metadata": {},
     "output_type": "execute_result"
    }
   ],
   "source": [
    "# Adding the DBScan clusters to the dataset\n",
    "label2 = db.labels_\n",
    "hot_zones['cluster2'] = label2\n",
    "hot_zones.head()"
   ]
  },
  {
   "cell_type": "code",
   "execution_count": 27,
   "metadata": {},
   "outputs": [
    {
     "data": {
      "text/html": [
       "<iframe\n",
       "    scrolling=\"no\"\n",
       "    width=\"100%\"\n",
       "    height=\"545px\"\n",
       "    src=\"iframe_figures/figure_27.html\"\n",
       "    frameborder=\"0\"\n",
       "    allowfullscreen\n",
       "></iframe>\n"
      ]
     },
     "metadata": {},
     "output_type": "display_data"
    }
   ],
   "source": [
    "# Visualization of the DBScan cluster on a map : \n",
    "# Like with Kmeans, there's one major cluster and several smaller ones.\n",
    "fig = px.scatter_mapbox(hot_zones, lat=\"Lat\", lon=\"Lon\", size=\"Hour\", color='cluster2', zoom = 9,\n",
    "                        mapbox_style=\"open-street-map\", color_continuous_scale = 'Plasma',\n",
    "                       animation_frame = 'Weekday', title='Hot Zones by Hour and Weekday')\n",
    "fig.show()"
   ]
  },
  {
   "cell_type": "code",
   "execution_count": 28,
   "metadata": {},
   "outputs": [],
   "source": [
    "# Finding the number of calls per hour and cluster with DBscan\n",
    "test = hot_zones.groupby(['Hour','cluster2']).cluster2.agg('count').to_frame('count').reset_index()"
   ]
  },
  {
   "cell_type": "code",
   "execution_count": 29,
   "metadata": {},
   "outputs": [
    {
     "data": {
      "text/html": [
       "<iframe\n",
       "    scrolling=\"no\"\n",
       "    width=\"100%\"\n",
       "    height=\"545px\"\n",
       "    src=\"iframe_figures/figure_29.html\"\n",
       "    frameborder=\"0\"\n",
       "    allowfullscreen\n",
       "></iframe>\n"
      ]
     },
     "metadata": {},
     "output_type": "display_data"
    }
   ],
   "source": [
    "fig = px.bar(test, x='Hour', y='count', color='cluster2', title = 'Rides per hour by cluster on average in a day with DBScan')\n",
    "fig.show()"
   ]
  },
  {
   "cell_type": "code",
   "execution_count": 30,
   "metadata": {},
   "outputs": [],
   "source": [
    "# Results with DBScan are similar to Kmeans, but a bit too precise : \n",
    "# some cluster don't have enough observations to appear on the graph compared to other clusters.\n",
    "# We decide to stick with Kmeans for this business case."
   ]
  },
  {
   "cell_type": "code",
   "execution_count": 31,
   "metadata": {},
   "outputs": [
    {
     "name": "stdout",
     "output_type": "stream",
     "text": [
      "Requirement already satisfied: geopy in /opt/conda/lib/python3.8/site-packages (2.2.0)\n",
      "Requirement already satisfied: geographiclib<2,>=1.49 in /opt/conda/lib/python3.8/site-packages (from geopy) (1.52)\n"
     ]
    }
   ],
   "source": [
    "!pip install geopy"
   ]
  },
  {
   "cell_type": "code",
   "execution_count": 32,
   "metadata": {},
   "outputs": [],
   "source": [
    "from geopy.geocoders import Nominatim\n",
    "import time\n",
    "import re\n",
    "geolocator = Nominatim(timeout=10, user_agent='http')"
   ]
  },
  {
   "cell_type": "code",
   "execution_count": 35,
   "metadata": {},
   "outputs": [],
   "source": [
    "hot_zones['Zone_Name'] = ''"
   ]
  },
  {
   "cell_type": "code",
   "execution_count": 52,
   "metadata": {},
   "outputs": [
    {
     "name": "stderr",
     "output_type": "stream",
     "text": [
      "<ipython-input-52-d0fd5d0f023f>:6: SettingWithCopyWarning:\n",
      "\n",
      "\n",
      "A value is trying to be set on a copy of a slice from a DataFrame\n",
      "\n",
      "See the caveats in the documentation: https://pandas.pydata.org/pandas-docs/stable/user_guide/indexing.html#returning-a-view-versus-a-copy\n",
      "\n"
     ]
    },
    {
     "ename": "KeyboardInterrupt",
     "evalue": "",
     "output_type": "error",
     "traceback": [
      "\u001b[0;31m---------------------------------------------------------------------------\u001b[0m",
      "\u001b[0;31mKeyboardInterrupt\u001b[0m                         Traceback (most recent call last)",
      "\u001b[0;32m<ipython-input-52-d0fd5d0f023f>\u001b[0m in \u001b[0;36m<module>\u001b[0;34m\u001b[0m\n\u001b[1;32m      5\u001b[0m     \u001b[0mcity\u001b[0m \u001b[0;34m=\u001b[0m \u001b[0maddress\u001b[0m\u001b[0;34m.\u001b[0m\u001b[0mget\u001b[0m\u001b[0;34m(\u001b[0m\u001b[0;34m'city'\u001b[0m\u001b[0;34m)\u001b[0m\u001b[0;34m\u001b[0m\u001b[0;34m\u001b[0m\u001b[0m\n\u001b[1;32m      6\u001b[0m     \u001b[0mhot_zones\u001b[0m\u001b[0;34m[\u001b[0m\u001b[0;34m'Zone_Name'\u001b[0m\u001b[0;34m]\u001b[0m\u001b[0;34m[\u001b[0m\u001b[0mi\u001b[0m\u001b[0;34m]\u001b[0m \u001b[0;34m=\u001b[0m \u001b[0msuburb\u001b[0m\u001b[0;34m,\u001b[0m \u001b[0mcity\u001b[0m\u001b[0;34m\u001b[0m\u001b[0;34m\u001b[0m\u001b[0m\n\u001b[0;32m----> 7\u001b[0;31m     \u001b[0mtime\u001b[0m\u001b[0;34m.\u001b[0m\u001b[0msleep\u001b[0m\u001b[0;34m(\u001b[0m\u001b[0;36m1\u001b[0m\u001b[0;34m)\u001b[0m\u001b[0;34m\u001b[0m\u001b[0;34m\u001b[0m\u001b[0m\n\u001b[0m",
      "\u001b[0;31mKeyboardInterrupt\u001b[0m: "
     ]
    }
   ],
   "source": [
    "for i in range(len(hot_zones)):\n",
    "    location = geolocator.reverse(hot_zones['coords'][i])\n",
    "    address = location.raw['address']\n",
    "    suburb = address.get('suburb')\n",
    "    city = address.get('city')\n",
    "    hot_zones['Zone_Name'][i] = suburb, city\n",
    "    time.sleep(1)"
   ]
  },
  {
   "cell_type": "code",
   "execution_count": null,
   "metadata": {},
   "outputs": [],
   "source": [
    "location = geolocator.reverse('40.6879, -74.1814')\n",
    "address = location.raw['address']\n",
    "suburb = address.get('suburb')\n",
    "address"
   ]
  },
  {
   "cell_type": "code",
   "execution_count": 64,
   "metadata": {},
   "outputs": [
    {
     "data": {
      "text/plain": [
       "                         30310\n",
       "(Manhattan, New York)    10492\n",
       "(Queens, New York)        4788\n",
       "(Manhattan, None)         2114\n",
       "(None, Newark)             424\n",
       "(Brooklyn, New York)       117\n",
       "(Brooklyn, None)           117\n",
       "(None, None)                29\n",
       "Name: Zone_Name, dtype: int64"
      ]
     },
     "execution_count": 64,
     "metadata": {},
     "output_type": "execute_result"
    }
   ],
   "source": [
    "hot_zones['Zone_Name'].value_counts()"
   ]
  },
  {
   "cell_type": "code",
   "execution_count": null,
   "metadata": {},
   "outputs": [],
   "source": [
    "# Hot Zones are d"
   ]
  }
 ],
 "metadata": {
  "kernelspec": {
   "display_name": "Python 3",
   "language": "python",
   "name": "python3"
  },
  "language_info": {
   "codemirror_mode": {
    "name": "ipython",
    "version": 3
   },
   "file_extension": ".py",
   "mimetype": "text/x-python",
   "name": "python",
   "nbconvert_exporter": "python",
   "pygments_lexer": "ipython3",
   "version": "3.8.6"
  }
 },
 "nbformat": 4,
 "nbformat_minor": 4
}
